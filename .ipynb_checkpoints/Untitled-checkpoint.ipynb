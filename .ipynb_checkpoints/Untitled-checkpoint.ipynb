{
 "cells": [
  {
   "cell_type": "code",
   "execution_count": 88,
   "metadata": {},
   "outputs": [
    {
     "name": "stderr",
     "output_type": "stream",
     "text": [
      "/home/constantin/.local/lib/python3.6/site-packages/sklearn/base.py:318: UserWarning: Trying to unpickle estimator TfidfTransformer from version 0.21.3 when using version 0.22. This might lead to breaking code or invalid results. Use at your own risk.\n",
      "  UserWarning)\n",
      "/home/constantin/.local/lib/python3.6/site-packages/sklearn/base.py:318: UserWarning: Trying to unpickle estimator TfidfVectorizer from version 0.21.3 when using version 0.22. This might lead to breaking code or invalid results. Use at your own risk.\n",
      "  UserWarning)\n",
      "/home/constantin/.local/lib/python3.6/site-packages/sklearn/base.py:318: UserWarning: Trying to unpickle estimator LinearSVC from version 0.21.3 when using version 0.22. This might lead to breaking code or invalid results. Use at your own risk.\n",
      "  UserWarning)\n"
     ]
    }
   ],
   "source": [
    "import classifier\n",
    "from sklearn.feature_extraction.text import TfidfVectorizer\n",
    "import numpy as np\n",
    "import pandas as pd\n",
    "import spacy\n",
    "\n",
    "nlp = spacy.load(\"en_core_web_sm\")\n",
    "\n",
    "test_file = \"./evaluation_examples.csv\"\n",
    "test_data = classifier.load_data(test_file)\n",
    "test_text = test_data[0]\n",
    "\n",
    "prediction = classifier.classify(test_text, './polarity_classifier.sav')\n",
    "\n",
    "test_text_pos = []\n",
    "test_text_neg = []\n",
    "\n",
    "for pol in range(len(prediction)):\n",
    "    if prediction[pol] == 3:\n",
    "        test_text_pos.append(test_text[pol])\n",
    "    if prediction[pol] == 4:\n",
    "        test_text_neg.append(test_text[pol])"
   ]
  },
  {
   "cell_type": "code",
   "execution_count": 89,
   "metadata": {
    "scrolled": true
   },
   "outputs": [
    {
     "name": "stdout",
     "output_type": "stream",
     "text": [
      "  (0, 3103)\t0.042140319212070135\n",
      "  (0, 2148)\t0.14718234882328082\n",
      "  (0, 1002)\t0.14145933648469164\n",
      "  (0, 3400)\t0.08037787146947649\n",
      "  (0, 2829)\t0.14145933648469164\n",
      "  (0, 1783)\t0.09200378009809035\n",
      "  (0, 3079)\t0.05346279712005968\n",
      "  (0, 1636)\t0.1318815591720279\n",
      "  (0, 2373)\t0.09794402280967793\n",
      "  (0, 2485)\t0.1759444066756993\n",
      "  (0, 3076)\t0.07752229795260952\n",
      "  (0, 411)\t0.09666263413335555\n",
      "  (0, 3045)\t0.1759444066756993\n",
      "  (0, 602)\t0.136620598497991\n",
      "  (0, 2001)\t0.08991036028616589\n",
      "  (0, 1647)\t0.04192003996688045\n",
      "  (0, 1292)\t0.04690545889161694\n",
      "  (0, 3105)\t0.11718916597801166\n",
      "  (0, 2117)\t0.15504459590521905\n",
      "  (0, 300)\t0.07024612326058349\n",
      "  (0, 1949)\t0.1759444066756993\n",
      "  (0, 1863)\t0.10067528066456809\n",
      "  (0, 2699)\t0.1759444066756993\n",
      "  (0, 245)\t0.07409991865585869\n",
      "  (0, 1873)\t0.32643398664439705\n",
      "  :\t:\n",
      "  (198, 2134)\t0.05930573547557162\n",
      "  (198, 3253)\t0.057349920033512504\n",
      "  (198, 275)\t0.051156985181808404\n",
      "  (198, 1674)\t0.05642774837787232\n",
      "  (198, 3269)\t0.05043826723023613\n",
      "  (198, 3491)\t0.04563172029697159\n",
      "  (198, 1853)\t0.08614994079377074\n",
      "  (198, 1143)\t0.07524507222694851\n",
      "  (198, 2094)\t0.11515533484606806\n",
      "  (198, 3359)\t0.05043826723023613\n",
      "  (198, 1719)\t0.09530544359666002\n",
      "  (198, 2112)\t0.04421891939499777\n",
      "  (198, 3128)\t0.1258562362500657\n",
      "  (198, 510)\t0.04652035090590618\n",
      "  (198, 3295)\t0.11011615901427055\n",
      "  (198, 1406)\t0.16279193167104944\n",
      "  (198, 3103)\t0.032803279066494134\n",
      "  (198, 3400)\t0.12513705628640912\n",
      "  (198, 3079)\t0.0416170329602618\n",
      "  (198, 1636)\t0.13688070934230173\n",
      "  (198, 1647)\t0.09789542143180752\n",
      "  (198, 1292)\t0.03651260565968772\n",
      "  (198, 245)\t0.11536316553465607\n",
      "  (198, 2378)\t0.13546358322319038\n",
      "  (198, 3081)\t0.2826242950238416\n"
     ]
    }
   ],
   "source": [
    "vectorizer = TfidfVectorizer(ngram_range=(1,1))\n",
    "tf_idf_matrix = vectorizer.fit_transform(test_text_pos)\n",
    "print(tf_idf_matrix)"
   ]
  },
  {
   "cell_type": "code",
   "execution_count": 90,
   "metadata": {
    "scrolled": true
   },
   "outputs": [],
   "source": [
    "scores = zip(vectorizer.get_feature_names(),\n",
    "                 np.asarray(tf_idf_matrix.sum(axis=0)).ravel())"
   ]
  },
  {
   "cell_type": "raw",
   "metadata": {},
   "source": [
    "sorted_scores = sorted(scores, key=lambda x: x[1], reverse=True)\n",
    "print(sorted_scores)"
   ]
  },
  {
   "cell_type": "code",
   "execution_count": 15,
   "metadata": {},
   "outputs": [
    {
     "name": "stdout",
     "output_type": "stream",
     "text": [
      "[]\n"
     ]
    }
   ],
   "source": [
    "sorted_scores_pos = [i[0] for i in sorted_scores if nlp(i[0])[0].pos_ == 'ADJ']\n",
    "print(sorted_scores_pos)"
   ]
  },
  {
   "cell_type": "code",
   "execution_count": null,
   "metadata": {},
   "outputs": [],
   "source": []
  }
 ],
 "metadata": {
  "kernelspec": {
   "display_name": "Python 3",
   "language": "python",
   "name": "python3"
  },
  "language_info": {
   "codemirror_mode": {
    "name": "ipython",
    "version": 3
   },
   "file_extension": ".py",
   "mimetype": "text/x-python",
   "name": "python",
   "nbconvert_exporter": "python",
   "pygments_lexer": "ipython3",
   "version": "3.6.9"
  }
 },
 "nbformat": 4,
 "nbformat_minor": 2
}
