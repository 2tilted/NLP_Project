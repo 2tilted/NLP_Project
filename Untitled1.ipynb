{
 "cells": [
  {
   "cell_type": "code",
   "execution_count": 4,
   "metadata": {},
   "outputs": [
    {
     "name": "stderr",
     "output_type": "stream",
     "text": [
      "/home/constantin/.local/lib/python3.6/site-packages/sklearn/base.py:318: UserWarning: Trying to unpickle estimator TfidfTransformer from version 0.21.3 when using version 0.22. This might lead to breaking code or invalid results. Use at your own risk.\n",
      "  UserWarning)\n",
      "/home/constantin/.local/lib/python3.6/site-packages/sklearn/base.py:318: UserWarning: Trying to unpickle estimator TfidfVectorizer from version 0.21.3 when using version 0.22. This might lead to breaking code or invalid results. Use at your own risk.\n",
      "  UserWarning)\n",
      "/home/constantin/.local/lib/python3.6/site-packages/sklearn/base.py:318: UserWarning: Trying to unpickle estimator LinearSVC from version 0.21.3 when using version 0.22. This might lead to breaking code or invalid results. Use at your own risk.\n",
      "  UserWarning)\n"
     ]
    },
    {
     "name": "stdout",
     "output_type": "stream",
     "text": [
      "['great', 'good', 'more', 'easy', 'much', 'little', 'other', 'best', 'perfect', 'better', 'many', 'clean', 'small', 'enough', 'pretty', 'high', 'nice', 'big', 'excellent', 'less', 'worth', 'able', 'heavy', 'large', 'low', 'happy', 'sure', 'simple', 'comfortable', 'most', 'expensive', 'wonderful', 'sharp', 'different', 'extra', 'wrong', 'few', 'hot', 'same', 'several', 'fine', 'old', 'portable', 'bigger', 'cheap', 'last', 'bad', 'second', 'least', 'favorite', 'reasonable', 'such', 'higher', 'defective', 'quick', 'open', 'safe', 'beautiful', 'huge', 'cheaper', 'smaller', 'lightweight', 'full', 'similar', 'amazing', 'odd', 'ideal', 'difficult', 'black', 'poor', 'netgear', 'worse', 'normal', 'special', 'biggest', 'prompt', 'soft', 'fresh', 'larger', 'outstanding', 'free', 'remote', 'excited', 'durable', 'creative', 'slow', 'cooked', 'regular', 'flat', 'reliable', 'cool', 'sturdy', 'spare', 'local', 'handy', 'rechargable', 'true', 'lesser', 'stainless', 'inexpensive', 'resistant', 'popular', 'easiest', 'upright', 'heavier', 'warm', 'own', 'noticed', 'available', 'weak', 'concerned', 'decent', 'various', 'convenient', 'unable', 'physical', 'stable', 'justified', 'useful', 'quiet', 'real', 'flexible', 'needless', 'due', 'mighty', 'amazed', 'important', 'responsible', 'bluetooth', 'short', 'bright', 'substantial', 'minor', 'basic', 'indispensable', 'dead', 'easier', 'thin', 'poured', 'terrific', 'beatiful', 'horrible', 'dirty', 'dry', 'uncomfortable', 'padded', 'greater', 'rounded', 'current', 'louder', 'sized', 'excess', 'fancy', 'dark', 'careful', 'unattended', 'wide', 'lower', 'third', 'reluctant', 'compact', 'confused', 'useless', 'unobtrusive', 'fuzzy', 'incredible', 'tricky', 'vivid', 'original', 'crazy', 'cute', 'obtaibed', 'actual', 'noticeable', 'deep', 'framed', 'useable', 'unlimited', 'slight', 'unrelated', 'ergonomic', 'wooden', 'entire', 'powerful', 'select', 'plain', 'common', 'retractable', 'tired', 'intuitive', 'problematic', 'occasional', 'contrary', 'frequent', 'strong', 'removable', 'spongy', 'happier', 'willing', 'additional', 'certain', 'awful', 'friendly', 'unfamiliar', 'indoor', 'traditional', 'thicker', 'sweet', 'countless', 'icky', 'lighter', 'gorgeous', 'double', 'affordable', 'possible', 'numerous', 'positive', 'plugged', 'vast', 'worst', 'worried', 'satisfied', 'shorter', 'familiar', 'highest', 'negative', 'booklight', 'convinced', 'unbalanced', 'adequate', 'intutive', 'sexy', 'present', 'shortest', 'impressed', 'crucial', 'printable', 'professional', 'strange', 'helpful', 'upset', 'capable', 'solid', 'inflated', 'usual', 'religeous', 'rich', 'balanced', 'mad', 'prologic', 'comparable', 'weakest', 'electronic', 'largest', 'recent', 'dual', 'typical', 'brief', 'damaging', 'detailed', 'older', 'reducetreble', 'relative', 'impossible', 'adjustable', 'courteous', 'essential', 'fitting', 'newer', 'whole', 'removeable', '4th', 'availible', 'flimsy', 'understandable', 'savvy', 'durablenewline', 'extreme', 'neat', 'susceptible', 'tall', 'unlikely', 'costly', 'disappointed', 'single', 'coolest', '30pm', 'unused', 'fair', 'minimum', 'powered', 'unessential', 'unhelpful', 'variable', 'potential', 'separate', 'acceptable', 'slick', 'troublesome', 'adjacent', 'main', 'slower', 'stupid', 'frothed', 'guilty', 'immediate', 'proper', 'simpler', 'troubled', 'hardier', 'tradiitonal', 'auxiliary', 'compatible', 'diminished', 'lengthy', 'necessary', 'accurate', 'rechargeable', 'vertical', 'apparent', 'enormous', 'lucky', 'closest', 'enjoyable', 'front', 'remarkable', 'unique', 'colorful', 'dedicated', 'interfacenewline', 'theoretical', 'vibrant', 'crappy', 'determined', 'liable', 'payable', 'tough', 'transferable', 'ready', 'unplugged', 'flaky', 'initial', 'annual', 'automotive', 'deficient', 'equivalent', 'faulty', 'final', 'flawed', 'monthly', 'primary', 'proprietary', 'active', 'indispensible', 'knowledgeable', 'sophisticated']\n",
      "\n",
      "\n",
      "['other', 'great', 'good', 'more', 'few', 'better', 'same', 'much', 'last', 'fine', 'sure', 'high', 'second', 'small', 'many', 'disappointed', 'several', 'enough', 'bad', 'easy', 'due', 'less', 'best', 'disappointing', 'nice', 'little', 'wrong', 'poor', 'whole', 'defective', 'horrible', 'faulty', 'different', 'old', 'cheaper', 'hot', 'worst', 'clean', 'most', 'low', 'warm', 'worth', 'such', 'large', 'big', 'excellent', 'full', 'black', 'terrible', 'annoying', 'regular', 'least', 'remote', 'cleaner', 'lower', 'real', 'compatible', 'flimsy', 'perfect', 'helpful', 'excited', 'impossible', 'third', 'worse', 'soft', 'difficult', 'pretty', 'reliable', 'able', 'extra', 'aware', 'loose', 'careful', 'own', 'concerned', 'tiny', 'ready', 'heavy', 'substantial', 'true', 'unusable', 'cheap', 'noticed', 'fresh', 'useless', 'slightest', 'weak', 'quick', 'programmable', 'plugged', 'empty', 'dead', 'wet', 'slow', 'happy', 'separate', 'actual', 'gentle', 'single', 'responsive', 'expensive', 'beautiful', 'possible', 'vivid', 'easier', 'available', 'electical', 'satisfactory', 'multiple', 'disapointed', 'audible', 'sensitive', 'tougher', 'higher', 'thin', 'direct', 'local', 'latest', 'e3s', 'critical', 'various', 'obvious', 'mixed', 'cool', 'interesting', 'bigger', 'fragile', 'normal', 'select', 'deep', 'average', 'lucky', 'wonderful', 'meticulous', 'short', 'unsuccessful', 'rigid', 'front', 'irregular', 'uncooked', 'original', 'honest', 'ugly', 'huge', 'tall', 'wide', 'sharp', 'fuzzy', 'distant', 'viable', 'common', 'stainless', 'previous', 'flexible', 'outer', 'experienced', 'impractical', 'similar', 'professional', 'cooked', 'offline', 'drinkable', 'needless', 'secret', 'livable', 'sturdy', 'electronic', 'fortunate', 'open', '60cs', 'broad', 'detailed', 'endless', 'eventual', 'initial', 'free', 'outrageous', 'correct', 'dark', 'painful', 'removable', 'funny', 'minimal', 'sophisticated', 'formal', 'invalid', 'phoned', 'staggering', 'tempermental', 'prepared', 'wise', 'triple', 'embarrassing', 'recent', 'complete', 'netgear', 'frustrated', 'solid', 'adequate', 'double', 'flatbed', 'usable', 'sad', 'contrary', 'physical', 'flawed', 'robust', 'unchoppy', 'unwatchable', 'serious', 'safe', 'unbelievable', 'unraveled', 'willing', 'dry', 'messy', 'current', 'positive', 'surprising', 'negative', 'additional', 'compatable', 'nasty', 'unclog', 'subject', 'reasonable', 'bluetooth', 'crazy', 'creative', 'dusty', 'annual', 'plain', 'chrysanthemum', 'innovative', 'entire', 'insufficient', 'affected', 'noticable', 'stronger', 'usinf', 'flat', 'worthless', 'dangerous', 'lowest', 'pointless', 'furious', 'mad', 'sputtering', 'particular', 'savvy', 'poured', 'traditional', 'ergonomic', 'precise', 'strong', 'weighty', 'minumum', 'clogged', 'incompatible', 'basic', 'rude', 'worried', 'individual', 'vertical', 'equivalent', 'handy', 'unable', 'rival', 'minor', 'extended', 'interested', 'specific', 'attractive', 'familiar', 'smaller', 'afraid', 'dirty', 'native', 'variant', 'booklight', 'decent', 'dubious', 'shoddy', 'compact', 'inaudible', 'illiterate', 'enormous', 'miniature', 'optionsnewline', 'thorough', 'related', 'terrific', 'bright', 'disassemble', 'unpleasant', 'amazed', 'outstanding', 'incredible', 'thankful', 'unusual', 'bearable', 'secondary', 'secure', 'apparent', 'appropriate', 'highest', 'operational', 'resent', 'accurate', 'hostile', 'interchange', 'newer', 'problematic', 'unfamiliar', 'powerful', 'virtual', 'disabled', 'inappropriate', 'narrow', 'balanced', 'dull', 'intact', 'slight', 'unscathed', 'certain', 'harsh', 'nuclear', 'usual', 'capable', 'deficient', 'durable', 'equal', 'informed', 'lengthy', 'main', 'nonexistent', 'potential', 'simple', 'subjective', 'cat5e', 'prompt', 'unimpressed', 'scant', 'uncomfortable', 'unhappy']\n"
     ]
    }
   ],
   "source": [
    "import classifier\n",
    "from sklearn.feature_extraction.text import TfidfVectorizer\n",
    "import numpy as np\n",
    "import pandas as pd\n",
    "import spacy\n",
    "\n",
    "nlp = spacy.load(\"en_core_web_sm\")\n",
    "\n",
    "test_file = \"./evaluation_examples.csv\"\n",
    "test_data = classifier.load_data(test_file)\n",
    "test_text = test_data[0]\n",
    "\n",
    "prediction = classifier.classify(test_text, './polarity_classifier.sav')\n",
    "\n",
    "test_text_pos = []\n",
    "test_text_neg = []\n",
    "\n",
    "for pol in range(len(prediction)):\n",
    "    if prediction[pol] == 3:\n",
    "        test_text_pos.append(test_text[pol])\n",
    "    if prediction[pol] == 4:\n",
    "        test_text_neg.append(test_text[pol])\n",
    "\n",
    "def create_tf_idf_matrix(documents):\n",
    "    vectorizer = TfidfVectorizer(ngram_range=(1,1))\n",
    "    tf_idf_matrix = vectorizer.fit_transform(documents)\n",
    "    scores = zip(vectorizer.get_feature_names(),\n",
    "                     np.asarray(tf_idf_matrix.sum(axis=0)).ravel())\n",
    "    sorted_scores = sorted(scores, key=lambda x: x[1], reverse=True)\n",
    "    return sorted_scores\n",
    "\n",
    "\n",
    "\n",
    "sorted_scores_pos = create_tf_idf_matrix(test_text_pos)\n",
    "\n",
    "#sorted_scores_pos = [i[0] for i in sorted_scores_pos]\n",
    "sorted_scores_pos = [i[0] for i in sorted_scores_pos if nlp(i[0])[0].pos_ == 'ADJ']\n",
    "\n",
    "sorted_scores_neg = create_tf_idf_matrix(test_text_neg)\n",
    "#sorted_scores_neg = [i[0] for i in sorted_scores_neg]\n",
    "sorted_scores_neg = [i[0] for i in sorted_scores_neg if nlp(i[0])[0].pos_ == 'ADJ']\n",
    "\n",
    "print(sorted_scores_pos)\n",
    "print(\"\\n\")\n",
    "print(sorted_scores_neg)\n",
    "\n",
    "for x in sorted_scores_pos[:]:\n",
    "    if x in sorted_scores_neg:\n",
    "        sorted_scores_neg.remove(x)\n",
    "        sorted_scores_pos.remove(x)"
   ]
  },
  {
   "cell_type": "code",
   "execution_count": null,
   "metadata": {},
   "outputs": [],
   "source": []
  }
 ],
 "metadata": {
  "kernelspec": {
   "display_name": "Python 3",
   "language": "python",
   "name": "python3"
  },
  "language_info": {
   "codemirror_mode": {
    "name": "ipython",
    "version": 3
   },
   "file_extension": ".py",
   "mimetype": "text/x-python",
   "name": "python",
   "nbconvert_exporter": "python",
   "pygments_lexer": "ipython3",
   "version": "3.6.9"
  }
 },
 "nbformat": 4,
 "nbformat_minor": 2
}
